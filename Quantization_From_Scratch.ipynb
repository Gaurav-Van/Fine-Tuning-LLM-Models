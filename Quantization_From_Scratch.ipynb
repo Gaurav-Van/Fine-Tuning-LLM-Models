{
  "nbformat": 4,
  "nbformat_minor": 0,
  "metadata": {
    "colab": {
      "provenance": []
    },
    "kernelspec": {
      "name": "python3",
      "display_name": "Python 3"
    },
    "language_info": {
      "name": "python"
    }
  },
  "cells": [
    {
      "cell_type": "code",
      "execution_count": 14,
      "metadata": {
        "id": "hEFhWe5pEMCJ"
      },
      "outputs": [],
      "source": [
        "import numpy as np"
      ]
    },
    {
      "cell_type": "code",
      "source": [
        "# Generate randomly distributed parameters\n",
        "params = np.random.uniform(low=-50, high=150, size=20)\n",
        "\n",
        "# Make sure important values are at the beginning for better debugging\n",
        "params[0] = params.max() + 1\n",
        "params[1] = params.min() - 1\n",
        "params[2] = 0\n",
        "\n",
        "params = np.round(params, 2)\n",
        "print(params)"
      ],
      "metadata": {
        "colab": {
          "base_uri": "https://localhost:8080/"
        },
        "id": "iU60CF_wE6Gg",
        "outputId": "fa297db1-5b8c-4b6f-f4f7-7d615bb95098"
      },
      "execution_count": 18,
      "outputs": [
        {
          "output_type": "stream",
          "name": "stdout",
          "text": [
            "[149.35 -50.37   0.    22.8  137.8  -15.66 148.35 -26.68  17.28  12.57\n",
            "  18.5   94.82  44.14 -49.37  94.86 138.89  82.92 -21.36  72.43  -6.14]\n"
          ]
        }
      ]
    },
    {
      "cell_type": "markdown",
      "source": [
        "## Define the Quantization Methods\n",
        "\n",
        " - Asymmetric Quantization\n",
        " - Asymmetric Dequantization\n",
        " - Symmetric Quantization\n",
        " - Symmetric Dequantization\n",
        " - Quantization Error"
      ],
      "metadata": {
        "id": "s5H22oxPHNp9"
      }
    },
    {
      "cell_type": "code",
      "source": [
        "def clamp(params_q: np.array, lower_bound: int, upper_bound: int) -> np.array:\n",
        "    params_q[params_q < lower_bound] = lower_bound\n",
        "    params_q[params_q > upper_bound] = upper_bound\n",
        "    return params_q\n",
        "\n",
        "def asymmetric_quantization(params: np.array, bits: int) -> tuple[np.array, float, int]:\n",
        "    alpha = np.max(params)\n",
        "    beta = np.min(params)\n",
        "    scale = (alpha - beta) / (2**bits-1)\n",
        "    zero = -1*np.round(beta / scale)\n",
        "    lower_bound, upper_bound = 0, 2**bits-1\n",
        "    # Quantize the parameters\n",
        "    quantized = clamp(np.round(params / scale + zero), lower_bound, upper_bound).astype(np.int32)\n",
        "    return quantized, scale, zero\n",
        "\n",
        "def asymmetric_dequantize(params_q: np.array, scale: float, zero: int) -> np.array:\n",
        "    return (params_q - zero) * scale\n",
        "\n",
        "def symmetric_dequantize(params_q: np.array, scale: float) -> np.array:\n",
        "    return params_q * scale\n",
        "\n",
        "def symmetric_quantization(params: np.array, bits: int) -> tuple[np.array, float]:\n",
        "    alpha = np.max(np.abs(params))\n",
        "    scale = alpha / (2**(bits-1)-1)\n",
        "    lower_bound = -2**(bits-1)\n",
        "    upper_bound = 2**(bits-1)-1\n",
        "    # Quantize the parameters\n",
        "    quantized = clamp(np.round(params / scale), lower_bound, upper_bound).astype(np.int32)\n",
        "    return quantized, scale\n",
        "\n",
        "def quantization_error(params: np.array, params_q: np.array):\n",
        "    # calculate the MSE\n",
        "    return np.mean((params - params_q)**2)\n",
        "\n",
        "(asymmetric_q, asymmetric_scale, asymmetric_zero) = asymmetric_quantization(params, 8)\n",
        "(symmetric_q, symmetric_scale) = symmetric_quantization(params, 8)\n",
        "\n",
        "print(f'Original:')\n",
        "print(np.round(params, 2))\n",
        "print('------------------------')\n",
        "print(f'Asymmetric scale: {asymmetric_scale}, zero: {asymmetric_zero}')\n",
        "print(asymmetric_q)\n",
        "print('------------------------')\n",
        "print(f'Symmetric scale: {symmetric_scale}')\n",
        "print(symmetric_q)"
      ],
      "metadata": {
        "colab": {
          "base_uri": "https://localhost:8080/"
        },
        "id": "IiSkc-7KG_XA",
        "outputId": "47096a53-df8e-443b-ac0e-a8ba6774ade5"
      },
      "execution_count": 19,
      "outputs": [
        {
          "output_type": "stream",
          "name": "stdout",
          "text": [
            "Original:\n",
            "[149.35 -50.37   0.    22.8  137.8  -15.66 148.35 -26.68  17.28  12.57\n",
            "  18.5   94.82  44.14 -49.37  94.86 138.89  82.92 -21.36  72.43  -6.14]\n",
            "------------------------\n",
            "Asymmetric scale: 0.7832156862745098, zero: 64.0\n",
            "[255   0  64  93 240  44 253  30  86  80  88 185 120   1 185 241 170  37\n",
            " 156  56]\n",
            "------------------------\n",
            "Symmetric scale: 1.175984251968504\n",
            "[127 -43   0  19 117 -13 126 -23  15  11  16  81  38 -42  81 118  71 -18\n",
            "  62  -5]\n"
          ]
        }
      ]
    },
    {
      "cell_type": "code",
      "source": [
        "params_deq_asymmetric = asymmetric_dequantize(asymmetric_q, asymmetric_scale, asymmetric_zero)\n",
        "params_deq_symmetric = symmetric_dequantize(symmetric_q, symmetric_scale)\n",
        "\n",
        "print(f'Original:')\n",
        "print(np.round(params, 2))\n",
        "print('--------------------')\n",
        "print(f'Dequantize Asymmetric:')\n",
        "print(np.round(params_deq_asymmetric,2))\n",
        "print('---------------------')\n",
        "print(f'Dequantize Symmetric:')\n",
        "print(np.round(params_deq_symmetric, 2))"
      ],
      "metadata": {
        "colab": {
          "base_uri": "https://localhost:8080/"
        },
        "id": "ldUr6G_TH9H2",
        "outputId": "573eec31-3b7f-432d-be5c-3a4751eb375b"
      },
      "execution_count": 20,
      "outputs": [
        {
          "output_type": "stream",
          "name": "stdout",
          "text": [
            "Original:\n",
            "[149.35 -50.37   0.    22.8  137.8  -15.66 148.35 -26.68  17.28  12.57\n",
            "  18.5   94.82  44.14 -49.37  94.86 138.89  82.92 -21.36  72.43  -6.14]\n",
            "--------------------\n",
            "Dequantize Asymmetric:\n",
            "[149.59 -50.13   0.    22.71 137.85 -15.66 148.03 -26.63  17.23  12.53\n",
            "  18.8   94.77  43.86 -49.34  94.77 138.63  83.02 -21.15  72.06  -6.27]\n",
            "---------------------\n",
            "Dequantize Symmetric:\n",
            "[149.35 -50.57   0.    22.34 137.59 -15.29 148.17 -27.05  17.64  12.94\n",
            "  18.82  95.25  44.69 -49.39  95.25 138.77  83.49 -21.17  72.91  -5.88]\n"
          ]
        }
      ]
    },
    {
      "cell_type": "code",
      "source": [
        "# Calculate the quantization error\n",
        "print(f'{\"Asymmetric error: \":>20}{np.round(quantization_error(params, params_deq_asymmetric), 2)}')\n",
        "print(f'{\"Symmetric error: \":>20}{np.round(quantization_error(params, params_deq_symmetric), 2)}')"
      ],
      "metadata": {
        "colab": {
          "base_uri": "https://localhost:8080/"
        },
        "id": "mtiwLzerKUS7",
        "outputId": "a5d18490-c670-46bf-b279-35473d4a2b4e"
      },
      "execution_count": 21,
      "outputs": [
        {
          "output_type": "stream",
          "name": "stdout",
          "text": [
            "  Asymmetric error: 0.03\n",
            "   Symmetric error: 0.11\n"
          ]
        }
      ]
    },
    {
      "cell_type": "code",
      "source": [],
      "metadata": {
        "id": "SWQZS-UfKZMU"
      },
      "execution_count": null,
      "outputs": []
    }
  ]
}